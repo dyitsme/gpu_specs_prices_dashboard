{
 "cells": [
  {
   "cell_type": "code",
   "execution_count": 3,
   "metadata": {},
   "outputs": [],
   "source": [
    "import pandas as pd\n",
    "from matplotlib import pyplot as plt "
   ]
  },
  {
   "cell_type": "code",
   "execution_count": 4,
   "metadata": {},
   "outputs": [],
   "source": [
    "df = pd.read_csv('../pcexpress.csv')"
   ]
  },
  {
   "cell_type": "code",
   "execution_count": 5,
   "metadata": {},
   "outputs": [
    {
     "data": {
      "text/html": [
       "<div>\n",
       "<style scoped>\n",
       "    .dataframe tbody tr th:only-of-type {\n",
       "        vertical-align: middle;\n",
       "    }\n",
       "\n",
       "    .dataframe tbody tr th {\n",
       "        vertical-align: top;\n",
       "    }\n",
       "\n",
       "    .dataframe thead th {\n",
       "        text-align: right;\n",
       "    }\n",
       "</style>\n",
       "<table border=\"1\" class=\"dataframe\">\n",
       "  <thead>\n",
       "    <tr style=\"text-align: right;\">\n",
       "      <th></th>\n",
       "      <th>name</th>\n",
       "      <th>vram</th>\n",
       "      <th>gddr</th>\n",
       "      <th>brand</th>\n",
       "      <th>price</th>\n",
       "    </tr>\n",
       "  </thead>\n",
       "  <tbody>\n",
       "    <tr>\n",
       "      <th>0</th>\n",
       "      <td>INTEL ARC A750 (INTEL-21P02J00BA-99AM3D) 8GB G...</td>\n",
       "      <td>8GB</td>\n",
       "      <td>GDDR6</td>\n",
       "      <td>Intel</td>\n",
       "      <td>15700.0</td>\n",
       "    </tr>\n",
       "    <tr>\n",
       "      <th>1</th>\n",
       "      <td>ZOTAC RTX4070TI TRINITY OC 12GB GDDR6X 192-bit...</td>\n",
       "      <td>12GB</td>\n",
       "      <td>GDDR6X</td>\n",
       "      <td>Zotac</td>\n",
       "      <td>58450.0</td>\n",
       "    </tr>\n",
       "    <tr>\n",
       "      <th>2</th>\n",
       "      <td>ZOTAC RTX3060 TWIN EDGE 12GB GDDR6 192-bit Gra...</td>\n",
       "      <td>12GB</td>\n",
       "      <td>GDDR6</td>\n",
       "      <td>Zotac</td>\n",
       "      <td>20500.0</td>\n",
       "    </tr>\n",
       "    <tr>\n",
       "      <th>3</th>\n",
       "      <td>ZOTAC RTX3050 TWIN EDGE OC 8GB GDDR6 128-bit G...</td>\n",
       "      <td>8GB</td>\n",
       "      <td>GDDR6</td>\n",
       "      <td>Zotac</td>\n",
       "      <td>16500.0</td>\n",
       "    </tr>\n",
       "    <tr>\n",
       "      <th>4</th>\n",
       "      <td>ZOTAC GTX1650 AMP CORE 4GB GDDR6 128-bit Graph...</td>\n",
       "      <td>4GB</td>\n",
       "      <td>GDDR6</td>\n",
       "      <td>Zotac</td>\n",
       "      <td>9650.0</td>\n",
       "    </tr>\n",
       "  </tbody>\n",
       "</table>\n",
       "</div>"
      ],
      "text/plain": [
       "                                                name  vram    gddr  brand  \\\n",
       "0  INTEL ARC A750 (INTEL-21P02J00BA-99AM3D) 8GB G...   8GB   GDDR6  Intel   \n",
       "1  ZOTAC RTX4070TI TRINITY OC 12GB GDDR6X 192-bit...  12GB  GDDR6X  Zotac   \n",
       "2  ZOTAC RTX3060 TWIN EDGE 12GB GDDR6 192-bit Gra...  12GB   GDDR6  Zotac   \n",
       "3  ZOTAC RTX3050 TWIN EDGE OC 8GB GDDR6 128-bit G...   8GB   GDDR6  Zotac   \n",
       "4  ZOTAC GTX1650 AMP CORE 4GB GDDR6 128-bit Graph...   4GB   GDDR6  Zotac   \n",
       "\n",
       "     price  \n",
       "0  15700.0  \n",
       "1  58450.0  \n",
       "2  20500.0  \n",
       "3  16500.0  \n",
       "4   9650.0  "
      ]
     },
     "execution_count": 5,
     "metadata": {},
     "output_type": "execute_result"
    }
   ],
   "source": [
    "df.head()"
   ]
  },
  {
   "cell_type": "code",
   "execution_count": 7,
   "metadata": {},
   "outputs": [
    {
     "data": {
      "text/plain": [
       "brand\n",
       "AFOX         1\n",
       "Asus        23\n",
       "COLORFUL     6\n",
       "Galax        3\n",
       "Gigabyte    17\n",
       "dtype: int64"
      ]
     },
     "execution_count": 7,
     "metadata": {},
     "output_type": "execute_result"
    }
   ],
   "source": [
    "df1 = df.groupby('brand').size()\n",
    "df1.head()"
   ]
  },
  {
   "cell_type": "code",
   "execution_count": null,
   "metadata": {},
   "outputs": [],
   "source": []
  }
 ],
 "metadata": {
  "kernelspec": {
   "display_name": "Python 3 (ipykernel)",
   "language": "python",
   "name": "python3"
  },
  "language_info": {
   "codemirror_mode": {
    "name": "ipython",
    "version": 3
   },
   "file_extension": ".py",
   "mimetype": "text/x-python",
   "name": "python",
   "nbconvert_exporter": "python",
   "pygments_lexer": "ipython3",
   "version": "3.10.8"
  }
 },
 "nbformat": 4,
 "nbformat_minor": 4
}
