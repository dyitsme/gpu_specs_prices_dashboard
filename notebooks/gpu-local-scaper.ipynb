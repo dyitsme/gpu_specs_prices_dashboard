{
 "cells": [
  {
   "cell_type": "markdown",
   "id": "b5369d38-6a51-42a6-9502-79bba3a752ab",
   "metadata": {},
   "source": [
    "# Data fetching and preprocessing "
   ]
  },
  {
   "cell_type": "code",
   "execution_count": 3,
   "id": "7d66338b-d1db-4b8d-b0db-5d27de8567e9",
   "metadata": {},
   "outputs": [],
   "source": [
    "from bs4 import BeautifulSoup\n",
    "import pandas as pd\n",
    "import numpy as np\n",
    "import re"
   ]
  },
  {
   "cell_type": "code",
   "execution_count": 4,
   "id": "6bbfd118-d1d0-4e54-90c9-31e9fe0fd4e8",
   "metadata": {},
   "outputs": [],
   "source": [
    "data = {'name': [], 'brand': [], 'model': [], 'memory size': [], 'memory type': [], 'price': []}"
   ]
  },
  {
   "cell_type": "code",
   "execution_count": 5,
   "id": "5ae2aa99-d84b-4221-845e-3d5b11631589",
   "metadata": {},
   "outputs": [],
   "source": [
    "ramRegEx = re.compile(r' \\d{1,2}GB?')\n",
    "gddrRegEx = re.compile(r'(\\wDDR\\w*) | (\\wDRR\\w*) | (DDR\\w*) | (DRR\\w*)')\n",
    "modelRegEx = re.compile(r'RTX ?™ ?[0-Z]+|RTX ?[0-Z]+|GTX ?[0-Z]+|GT[0-9]+|RX[0-Z]+|ARC A[0-9]+')"
   ]
  },
  {
   "cell_type": "markdown",
   "id": "44c6ffbc-a27d-4125-b967-b3d9e6fd61c7",
   "metadata": {
    "tags": []
   },
   "source": [
    "## Web scraper"
   ]
  },
  {
   "cell_type": "markdown",
   "id": "c14d1bf1-fc44-4e78-8c37-b2d4fb357187",
   "metadata": {},
   "source": [
    "This collects all graphics cards product information listed in the website of PC Express. Its web pages are saved locally."
   ]
  },
  {
   "cell_type": "code",
   "execution_count": 6,
   "id": "0496f45e-0496-4874-a66b-d8e62cc2bd18",
   "metadata": {},
   "outputs": [],
   "source": [
    "for i in range(1, 3):\n",
    "    if i == 1:\n",
    "        with open(f'Graphics Cards - PC Express.html', 'r', encoding='utf8') as html_file:\n",
    "            soup = BeautifulSoup(html_file, 'html.parser')\n",
    "            \n",
    "    else:\n",
    "        with open(f'Graphics Cards - PC Express - Page {i}.html', 'r', encoding='utf8') as html_file:\n",
    "            soup = BeautifulSoup(html_file, 'html.parser')\n",
    "        \n",
    "    gpu_items = soup.find_all(class_='product-grid-item')\n",
    "    \n",
    "    for gpu_item in gpu_items:\n",
    "        name = gpu_item.find(class_='product-title').get_text()\n",
    "\n",
    "        \n",
    "        brand = gpu_item.find(class_='woodmart-product-brands-links').get_text()\n",
    "        price = gpu_item.find(class_='price').get_text()\n",
    "    \n",
    "        price = price.replace('₱', '')\n",
    "        price = price.replace(',', '')\n",
    "        price = float(price)\n",
    "        \n",
    "        model = modelRegEx.search(name)\n",
    "        model = model.group().strip()\n",
    "        \n",
    "        \n",
    "        ram = ramRegEx.search(name)\n",
    "        ram = ram.group().strip()\n",
    "        \n",
    "        gddr = gddrRegEx.search(name)\n",
    "        gddr = gddr.group().strip()\n",
    "        \n",
    "        data['name'].append(name)\n",
    "        data['brand'].append(brand)\n",
    "        data['price'].append(price)\n",
    "        data['memory size'].append(ram)\n",
    "        data['memory type'].append(gddr)\n",
    "        data['model'].append(model)"
   ]
  },
  {
   "cell_type": "code",
   "execution_count": 7,
   "id": "64960a60-eaed-44ec-8dfc-e64364d6cc87",
   "metadata": {},
   "outputs": [
    {
     "name": "stdout",
     "output_type": "stream",
     "text": [
      "<class 'pandas.core.frame.DataFrame'>\n",
      "RangeIndex: 72 entries, 0 to 71\n",
      "Data columns (total 6 columns):\n",
      " #   Column       Non-Null Count  Dtype  \n",
      "---  ------       --------------  -----  \n",
      " 0   name         72 non-null     object \n",
      " 1   brand        72 non-null     object \n",
      " 2   model        72 non-null     object \n",
      " 3   memory size  72 non-null     object \n",
      " 4   memory type  72 non-null     object \n",
      " 5   price        72 non-null     float64\n",
      "dtypes: float64(1), object(5)\n",
      "memory usage: 3.5+ KB\n"
     ]
    }
   ],
   "source": [
    "gpu_df = pd.DataFrame(data)\n",
    "gpu_df.info()"
   ]
  },
  {
   "cell_type": "code",
   "execution_count": 8,
   "id": "cd8e19e5-edf3-4054-b5f7-2f308e63acdb",
   "metadata": {},
   "outputs": [
    {
     "data": {
      "text/html": [
       "<div>\n",
       "<style scoped>\n",
       "    .dataframe tbody tr th:only-of-type {\n",
       "        vertical-align: middle;\n",
       "    }\n",
       "\n",
       "    .dataframe tbody tr th {\n",
       "        vertical-align: top;\n",
       "    }\n",
       "\n",
       "    .dataframe thead th {\n",
       "        text-align: right;\n",
       "    }\n",
       "</style>\n",
       "<table border=\"1\" class=\"dataframe\">\n",
       "  <thead>\n",
       "    <tr style=\"text-align: right;\">\n",
       "      <th></th>\n",
       "      <th>name</th>\n",
       "      <th>brand</th>\n",
       "      <th>model</th>\n",
       "      <th>memory size</th>\n",
       "      <th>memory type</th>\n",
       "      <th>price</th>\n",
       "    </tr>\n",
       "  </thead>\n",
       "  <tbody>\n",
       "    <tr>\n",
       "      <th>0</th>\n",
       "      <td>INTEL ARC A750 (INTEL-21P02J00BA-99AM3D) 8GB G...</td>\n",
       "      <td>Intel</td>\n",
       "      <td>ARC A750</td>\n",
       "      <td>8GB</td>\n",
       "      <td>GDDR6</td>\n",
       "      <td>15700.0</td>\n",
       "    </tr>\n",
       "    <tr>\n",
       "      <th>1</th>\n",
       "      <td>ZOTAC RTX4070TI TRINITY OC 12GB GDDR6X 192-bit...</td>\n",
       "      <td>Zotac</td>\n",
       "      <td>RTX4070TI</td>\n",
       "      <td>12GB</td>\n",
       "      <td>GDDR6X</td>\n",
       "      <td>58450.0</td>\n",
       "    </tr>\n",
       "    <tr>\n",
       "      <th>2</th>\n",
       "      <td>ZOTAC RTX3060 TWIN EDGE 12GB GDDR6 192-bit Gra...</td>\n",
       "      <td>Zotac</td>\n",
       "      <td>RTX3060</td>\n",
       "      <td>12GB</td>\n",
       "      <td>GDDR6</td>\n",
       "      <td>20500.0</td>\n",
       "    </tr>\n",
       "    <tr>\n",
       "      <th>3</th>\n",
       "      <td>ZOTAC RTX3050 TWIN EDGE OC 8GB GDDR6 128-bit G...</td>\n",
       "      <td>Zotac</td>\n",
       "      <td>RTX3050</td>\n",
       "      <td>8GB</td>\n",
       "      <td>GDDR6</td>\n",
       "      <td>16500.0</td>\n",
       "    </tr>\n",
       "    <tr>\n",
       "      <th>4</th>\n",
       "      <td>ZOTAC GTX1650 AMP CORE 4GB GDDR6 128-bit Graph...</td>\n",
       "      <td>Zotac</td>\n",
       "      <td>GTX1650</td>\n",
       "      <td>4GB</td>\n",
       "      <td>GDDR6</td>\n",
       "      <td>9650.0</td>\n",
       "    </tr>\n",
       "  </tbody>\n",
       "</table>\n",
       "</div>"
      ],
      "text/plain": [
       "                                                name  brand      model  \\\n",
       "0  INTEL ARC A750 (INTEL-21P02J00BA-99AM3D) 8GB G...  Intel   ARC A750   \n",
       "1  ZOTAC RTX4070TI TRINITY OC 12GB GDDR6X 192-bit...  Zotac  RTX4070TI   \n",
       "2  ZOTAC RTX3060 TWIN EDGE 12GB GDDR6 192-bit Gra...  Zotac    RTX3060   \n",
       "3  ZOTAC RTX3050 TWIN EDGE OC 8GB GDDR6 128-bit G...  Zotac    RTX3050   \n",
       "4  ZOTAC GTX1650 AMP CORE 4GB GDDR6 128-bit Graph...  Zotac    GTX1650   \n",
       "\n",
       "  memory size memory type    price  \n",
       "0         8GB       GDDR6  15700.0  \n",
       "1        12GB      GDDR6X  58450.0  \n",
       "2        12GB       GDDR6  20500.0  \n",
       "3         8GB       GDDR6  16500.0  \n",
       "4         4GB       GDDR6   9650.0  "
      ]
     },
     "execution_count": 8,
     "metadata": {},
     "output_type": "execute_result"
    }
   ],
   "source": [
    "gpu_df.head()"
   ]
  },
  {
   "cell_type": "markdown",
   "id": "46a1e2c1-9b8c-4f60-817e-75f6652dedf0",
   "metadata": {},
   "source": [
    "## Cleaning the data"
   ]
  },
  {
   "cell_type": "markdown",
   "id": "2b5e002d-caf1-423b-9933-46792fb0d62c",
   "metadata": {},
   "source": [
    "A lot of these data contain unneccessary characters such as *™* or *®*. There are also some missing characters in the product information. Let's try to clean the columns `model`, `vram`, and `gddr`"
   ]
  },
  {
   "cell_type": "code",
   "execution_count": 9,
   "id": "76305d57-d980-4bba-a8dd-91d7f8e13f3f",
   "metadata": {},
   "outputs": [
    {
     "data": {
      "text/plain": [
       "model\n",
       "GTX 1650      8\n",
       "RTX4070       8\n",
       "RTX™ 3050     7\n",
       "GTX1650       6\n",
       "RTX3060TI     5\n",
       "RTX3050       4\n",
       "RTX4080       4\n",
       "RTX3060       3\n",
       "GTX 1050T     2\n",
       "GTX1630       2\n",
       "RTX4090       2\n",
       "GTX 1660      2\n",
       "RX6400        1\n",
       "GT1030        1\n",
       "RTX ™ 3050    1\n",
       "RTX ™ 3090    1\n",
       "RX6500XT      1\n",
       "RTX 2060      1\n",
       "GTX 1660T     1\n",
       "ARC A750      1\n",
       "RTX™ 4080     1\n",
       "RTX™ 3060     1\n",
       "RTX™ 3060T    1\n",
       "RTX4070TI     1\n",
       "RTX™ 4070T    1\n",
       "GT730         1\n",
       "RX560         1\n",
       "GTX1660       1\n",
       "GTX1050TI     1\n",
       "RX6600XT      1\n",
       "RTX™3060      1\n",
       "Name: count, dtype: int64"
      ]
     },
     "execution_count": 9,
     "metadata": {},
     "output_type": "execute_result"
    }
   ],
   "source": [
    "gpu_df['model'].value_counts()"
   ]
  },
  {
   "cell_type": "code",
   "execution_count": 10,
   "id": "be390f81-83cc-4064-a7d7-5a992aa8ffd4",
   "metadata": {},
   "outputs": [],
   "source": [
    "gpu_df['model'] = gpu_df['model'].map({'GTX 1650': 'GTX 1650', 'GTX1650': 'GTX 1650', 'RTX4070': 'RTX 4070', 'RTX™ 3050': 'RTX 3050', 'RTX ™ 3050': 'RTX 3050',\n",
    "                                       'RTX3050': 'RTX 3050', 'GTX1650': 'GTX 1650', 'GTX 1650': 'GTX 1650', 'RTX3060TI': 'RTX 3060 Ti', 'RTX3050': 'RTX 3050',\n",
    "                                       'RTX4080': 'RTX 4080', 'RTX3060': 'RTX 3060', 'GTX 1050T': 'GTX 1050T', 'GTX1630': 'GTX 1630', 'RTX4090': 'RTX 4090',\n",
    "                                       'GTX 1660': 'GTX 1660', 'RX6400': 'RX 6400', 'GT1030': 'GT 1030', 'RTX ™ 3090': 'RTX 3090', 'RX6500XT': 'RX 6500 XT',\n",
    "                                       'RTX 2060': 'RTX 2060', 'GTX 1660T': 'GTX 1660T', 'ARC A750': 'ARC A750', 'RTX™ 4080': 'RTX 4080', 'RTX™ 3060': 'RTX 3060',\n",
    "                                       'RTX™ 3060T': 'RTX 3060 Ti', 'RTX4070TI': 'RTX 4070 Ti', 'RTX™ 4070T': 'RTX 4070 Ti', 'GT730': 'GT 730', 'RX560': 'RX 560',\n",
    "                                       'GTX1660': 'GTX 1660', 'GTX1050TI': 'GTX 1050 Ti', 'RX6600XT': 'RX 6600XT', 'RTX™3060': 'RTX 3060'})"
   ]
  },
  {
   "cell_type": "code",
   "execution_count": 11,
   "id": "8fcab9da-6885-4c7b-8bd7-617e31b144fd",
   "metadata": {},
   "outputs": [
    {
     "data": {
      "text/plain": [
       "model\n",
       "GTX 1650       14\n",
       "RTX 3050       12\n",
       "RTX 4070        8\n",
       "RTX 3060 Ti     6\n",
       "RTX 3060        5\n",
       "RTX 4080        5\n",
       "GTX 1660        3\n",
       "GTX 1630        2\n",
       "RTX 4090        2\n",
       "RTX 4070 Ti     2\n",
       "GTX 1050T       2\n",
       "GTX 1660T       1\n",
       "GT 1030         1\n",
       "RTX 3090        1\n",
       "RX 6500 XT      1\n",
       "ARC A750        1\n",
       "RX 6400         1\n",
       "GT 730          1\n",
       "RX 560          1\n",
       "GTX 1050 Ti     1\n",
       "RX 6600XT       1\n",
       "RTX 2060        1\n",
       "Name: count, dtype: int64"
      ]
     },
     "execution_count": 11,
     "metadata": {},
     "output_type": "execute_result"
    }
   ],
   "source": [
    "gpu_df['model'].value_counts()"
   ]
  },
  {
   "cell_type": "code",
   "execution_count": 12,
   "id": "3a6e5023-b683-4136-bede-5b7ebaaf1199",
   "metadata": {},
   "outputs": [
    {
     "data": {
      "text/plain": [
       "memory size\n",
       "4GB     20\n",
       "8GB     19\n",
       "12GB    14\n",
       "16GB     5\n",
       "6GB      5\n",
       "24GB     3\n",
       "4G       2\n",
       "2GB      2\n",
       "8G       1\n",
       "12G      1\n",
       "Name: count, dtype: int64"
      ]
     },
     "execution_count": 12,
     "metadata": {},
     "output_type": "execute_result"
    }
   ],
   "source": [
    "gpu_df['memory size'].value_counts()"
   ]
  },
  {
   "cell_type": "code",
   "execution_count": 13,
   "id": "5ae7d284-63d6-41ca-b44c-0e5ba5283de0",
   "metadata": {},
   "outputs": [],
   "source": [
    "gpu_df['memory size'] = gpu_df['memory size'].map({'4GB': '4GB', '8GB': '8GB', '12GB': '12GB', '16GB': '16GB', '6GB': '6GB',\n",
    "                                     '24GB': '24GB', '4G': '4GB', '2GB': '2GB', '8G': '8GB', '12G': '12GB'})"
   ]
  },
  {
   "cell_type": "code",
   "execution_count": 14,
   "id": "ef3f7746-b62c-4847-a22f-9e056944f888",
   "metadata": {},
   "outputs": [
    {
     "data": {
      "text/plain": [
       "memory size\n",
       "8GB     20\n",
       "4GB     20\n",
       "12GB    15\n",
       "16GB     5\n",
       "6GB      5\n",
       "24GB     3\n",
       "4G       2\n",
       "2GB      2\n",
       "Name: count, dtype: int64"
      ]
     },
     "execution_count": 14,
     "metadata": {},
     "output_type": "execute_result"
    }
   ],
   "source": [
    "gpu_df['memory size'].value_counts()"
   ]
  },
  {
   "cell_type": "code",
   "execution_count": 15,
   "id": "6c7b9157-fee4-4bad-9b25-e58fc6533e42",
   "metadata": {},
   "outputs": [
    {
     "data": {
      "text/plain": [
       "memory type\n",
       "GDDR6     37\n",
       "GDDR6X    20\n",
       "GDDR5     11\n",
       "DDR6       3\n",
       "GDRR6      1\n",
       "Name: count, dtype: int64"
      ]
     },
     "execution_count": 15,
     "metadata": {},
     "output_type": "execute_result"
    }
   ],
   "source": [
    "gpu_df['memory type'].value_counts()"
   ]
  },
  {
   "cell_type": "code",
   "execution_count": 16,
   "id": "d95c6332-7482-4b75-aed3-04e59ede059f",
   "metadata": {},
   "outputs": [],
   "source": [
    "gpu_df['memory type'] = gpu_df['memory type'].map({'GDDR6': 'GDDR6', 'GDDR6X': 'GDDR6X', 'GDDR5': 'GDDR5', 'DDR6': 'GDDR6', 'GDRR6': 'GDDR6'})"
   ]
  },
  {
   "cell_type": "code",
   "execution_count": 17,
   "id": "aeb65066-e86b-48bb-8c5d-7260f6e92a58",
   "metadata": {},
   "outputs": [
    {
     "data": {
      "text/plain": [
       "memory type\n",
       "GDDR6     41\n",
       "GDDR6X    20\n",
       "GDDR5     11\n",
       "Name: count, dtype: int64"
      ]
     },
     "execution_count": 17,
     "metadata": {},
     "output_type": "execute_result"
    }
   ],
   "source": [
    "gpu_df['memory type'].value_counts()"
   ]
  },
  {
   "cell_type": "code",
   "execution_count": 18,
   "id": "ad75fdd1-3515-4239-8706-10ede7e8627e",
   "metadata": {},
   "outputs": [],
   "source": [
    "gpu_df.to_csv('../gpu_specs_prices.csv', index=False)"
   ]
  }
 ],
 "metadata": {
  "kernelspec": {
   "display_name": "Python 3 (ipykernel)",
   "language": "python",
   "name": "python3"
  },
  "language_info": {
   "codemirror_mode": {
    "name": "ipython",
    "version": 3
   },
   "file_extension": ".py",
   "mimetype": "text/x-python",
   "name": "python",
   "nbconvert_exporter": "python",
   "pygments_lexer": "ipython3",
   "version": "3.10.8"
  }
 },
 "nbformat": 4,
 "nbformat_minor": 5
}
